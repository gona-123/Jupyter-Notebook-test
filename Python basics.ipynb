{
 "cells": [
  {
   "cell_type": "code",
   "execution_count": 8,
   "id": "b2e6c678-dee4-40f1-b6c0-0aed102ee49b",
   "metadata": {},
   "outputs": [
    {
     "name": "stdout",
     "output_type": "stream",
     "text": [
      "* \n",
      "* * \n",
      "* * * \n",
      "* * * * \n",
      "* * * * * \n",
      "* \n",
      "* * \n",
      "* * * \n",
      "* * * * \n",
      "* * * * * \n"
     ]
    }
   ],
   "source": [
    "rows = 5\n",
    "i = 1\n",
    "while i <= rows:\n",
    "    print(\"* \" * i)\n",
    "    i += 1\n",
    "\n",
    "\n",
    "rows = 5\n",
    "for i in range(1, rows + 1):\n",
    "    print(\"* \" * i)\n"
   ]
  },
  {
   "cell_type": "code",
   "execution_count": 29,
   "id": "93aa1ef9-603d-4f6e-9e9f-3850803faadf",
   "metadata": {},
   "outputs": [
    {
     "name": "stdout",
     "output_type": "stream",
     "text": [
      "* \n",
      "* * \n",
      "* * * \n",
      "* * * * \n",
      "* * * * * \n"
     ]
    }
   ],
   "source": [
    "n=5\n",
    "i=1\n",
    "while i<=n:\n",
    "    print(\"* \"*i)\n",
    "    i+=1"
   ]
  },
  {
   "cell_type": "code",
   "execution_count": 11,
   "id": "1c950170-cc91-4bfe-a2d1-35d43a1353d2",
   "metadata": {},
   "outputs": [
    {
     "name": "stdout",
     "output_type": "stream",
     "text": [
      "* * * * * \n",
      "* * * * \n",
      "* * * \n",
      "* * \n",
      "* \n",
      "* * * * * \n",
      "* * * * \n",
      "* * * \n",
      "* * \n",
      "* \n"
     ]
    }
   ],
   "source": [
    "rows = 5\n",
    "i = rows\n",
    "while i > 0:\n",
    "    print(\"* \" * i)\n",
    "    i -= 1\n",
    "\n",
    "\n",
    "rows = 5\n",
    "for i in range(rows, 0, -1):\n",
    "    print(\"* \" * i)"
   ]
  },
  {
   "cell_type": "code",
   "execution_count": 9,
   "id": "672ff6f5-25d9-4708-ac9e-69e9905e246e",
   "metadata": {},
   "outputs": [
    {
     "name": "stdout",
     "output_type": "stream",
     "text": [
      "    * \n",
      "   * * \n",
      "  * * * \n",
      " * * * * \n",
      "* * * * * \n",
      "    * \n",
      "   * * \n",
      "  * * * \n",
      " * * * * \n",
      "* * * * * \n"
     ]
    }
   ],
   "source": [
    "rows = 5\n",
    "i = 1\n",
    "while i <= rows:\n",
    "    print(\" \" * (rows - i) + \"* \" * i)\n",
    "    i += 1\n",
    "\n",
    "\n",
    "rows = 5\n",
    "for i in range(1, rows + 1):\n",
    "    print(\" \" * (rows - i) + \"* \" * i)\n"
   ]
  },
  {
   "cell_type": "code",
   "execution_count": 4,
   "id": "2e3b4a90-9a0a-4496-8897-1f3ab247d743",
   "metadata": {},
   "outputs": [
    {
     "name": "stdout",
     "output_type": "stream",
     "text": [
      "    * \n",
      "   * * \n",
      "  * * * \n",
      " * * * * \n",
      "* * * * * \n"
     ]
    }
   ],
   "source": [
    "rows = 5\n",
    "i = 1\n",
    "while i <= rows:\n",
    "    print(\" \" * (rows - i) + \"* \" * i)\n",
    "    i += 1"
   ]
  },
  {
   "cell_type": "code",
   "execution_count": 5,
   "id": "2a8013d2-d0f3-49c1-bee9-3e291c73e075",
   "metadata": {},
   "outputs": [
    {
     "name": "stdout",
     "output_type": "stream",
     "text": [
      "    * \n",
      "   * * \n",
      "  * * * \n",
      " * * * * \n",
      "* * * * * \n",
      " * * * * \n",
      "  * * * \n",
      "   * * \n",
      "    * \n"
     ]
    }
   ],
   "source": [
    "rows = 5\n",
    "\n",
    "# Upper half\n",
    "i = 1\n",
    "while i <= rows:\n",
    "    print(\" \" * (rows - i) + \"* \" * i)\n",
    "    i += 1\n",
    "\n",
    "# Lower half\n",
    "i = rows - 1\n",
    "while i > 0:\n",
    "    print(\" \" * (rows - i) + \"* \" * i)\n",
    "    i -= 1"
   ]
  },
  {
   "cell_type": "code",
   "execution_count": 6,
   "id": "8d797fbc-8434-42b4-b61e-6af693a7c8d0",
   "metadata": {},
   "outputs": [
    {
     "name": "stdout",
     "output_type": "stream",
     "text": [
      "0 \n",
      "1 0 \n",
      "0 1 0 \n",
      "1 0 1 0 \n",
      "0 1 0 1 0 \n"
     ]
    }
   ],
   "source": [
    "rows = 5\n",
    "i = 1\n",
    "while i <= rows:\n",
    "    j = 1\n",
    "    while j <= i:\n",
    "        print((i + j) % 2, end=\" \")\n",
    "        j += 1\n",
    "    print()\n",
    "    i += 1"
   ]
  },
  {
   "cell_type": "code",
   "execution_count": 7,
   "id": "62e49ec2-9b45-43d0-a351-95e84c6ba5ea",
   "metadata": {},
   "outputs": [
    {
     "name": "stdout",
     "output_type": "stream",
     "text": [
      "1\n"
     ]
    }
   ],
   "source": [
    "print(True+False*True)"
   ]
  },
  {
   "cell_type": "code",
   "execution_count": 10,
   "id": "8a9958d5-67d5-4f22-b4d2-3411220ca7c3",
   "metadata": {},
   "outputs": [
    {
     "name": "stdout",
     "output_type": "stream",
     "text": [
      "1 \n",
      "2 2 \n",
      "3 3 3 \n",
      "4 4 4 4 \n",
      "5 5 5 5 5 \n"
     ]
    }
   ],
   "source": [
    "rows = 5\n",
    "for i in range(1, rows + 1):\n",
    "    print((str(i) + \" \") * i)\n"
   ]
  },
  {
   "cell_type": "code",
   "execution_count": 12,
   "id": "169d929e-e4d9-4fe8-9a89-606b5704c64a",
   "metadata": {},
   "outputs": [
    {
     "name": "stdout",
     "output_type": "stream",
     "text": [
      "1 \n",
      "2 3 \n",
      "4 5 6 \n",
      "7 8 9 10 \n",
      "11 12 13 14 15 \n"
     ]
    }
   ],
   "source": [
    "rows = 5\n",
    "num = 1\n",
    "for i in range(1, rows + 1):\n",
    "    for j in range(1, i + 1):\n",
    "        print(num, end=\" \")\n",
    "        num += 1\n",
    "    print()\n"
   ]
  },
  {
   "cell_type": "code",
   "execution_count": 13,
   "id": "f1119c13-2e01-45a4-802f-b3bc9a61960b",
   "metadata": {},
   "outputs": [
    {
     "name": "stdout",
     "output_type": "stream",
     "text": [
      "0 \n",
      "1 0 \n",
      "0 1 0 \n",
      "1 0 1 0 \n",
      "0 1 0 1 0 \n"
     ]
    }
   ],
   "source": [
    "rows = 5\n",
    "for i in range(1, rows + 1):\n",
    "    for j in range(1, i + 1):\n",
    "        print((i + j) % 2, end=\" \")\n",
    "    print()"
   ]
  },
  {
   "cell_type": "code",
   "execution_count": 14,
   "id": "78393128-14a3-4678-af7b-08be531a891b",
   "metadata": {},
   "outputs": [
    {
     "name": "stdout",
     "output_type": "stream",
     "text": [
      "     1 \n",
      "    1 1 \n",
      "   1 2 1 \n",
      "  1 3 3 1 \n",
      " 1 4 6 4 1 \n"
     ]
    }
   ],
   "source": [
    "rows = 5\n",
    "for i in range(rows):\n",
    "    print(\" \" * (rows - i), end=\"\")\n",
    "    num = 1\n",
    "    for j in range(i + 1):\n",
    "        print(num, end=\" \")\n",
    "        num = num * (i - j) // (j + 1)\n",
    "    print()"
   ]
  },
  {
   "cell_type": "code",
   "execution_count": 15,
   "id": "4216c3e2-ea4a-4c13-9086-6ab244412fb8",
   "metadata": {},
   "outputs": [
    {
     "name": "stdout",
     "output_type": "stream",
     "text": [
      "1 2 3 4 5 \n",
      "1 2 3 4 \n",
      "1 2 3 \n",
      "1 2 \n",
      "1 \n"
     ]
    }
   ],
   "source": [
    "rows = 5\n",
    "for i in range(rows, 0, -1):\n",
    "    for j in range(1, i + 1):\n",
    "        print(j, end=\" \")\n",
    "    print()\n"
   ]
  },
  {
   "cell_type": "code",
   "execution_count": 17,
   "id": "02960f0f-71d9-4f78-8a0e-47599b04873c",
   "metadata": {},
   "outputs": [
    {
     "name": "stdout",
     "output_type": "stream",
     "text": [
      "* * * * * \n",
      "* * * * \n",
      "* * * \n",
      "* * \n",
      "* \n",
      "* * * * * \n",
      "* * * * \n",
      "* * * \n",
      "* * \n",
      "* \n"
     ]
    }
   ],
   "source": [
    "rows = 5\n",
    "i = rows\n",
    "while i > 0:\n",
    "    print(\"* \" * i)\n",
    "    i -= 1\n",
    "\n",
    "rows = 5\n",
    "for i in range(rows, 0, -1):\n",
    "    print(\"* \" * i)\n"
   ]
  },
  {
   "cell_type": "code",
   "execution_count": 18,
   "id": "487c6ec6-0a11-4aa5-89cb-cd0d1631f40b",
   "metadata": {},
   "outputs": [
    {
     "name": "stdout",
     "output_type": "stream",
     "text": [
      "* * * * * \n",
      " * * * * \n",
      "  * * * \n",
      "   * * \n",
      "    * \n",
      "* * * * * \n",
      " * * * * \n",
      "  * * * \n",
      "   * * \n",
      "    * \n"
     ]
    }
   ],
   "source": [
    "rows = 5\n",
    "i = rows\n",
    "\n",
    "while i > 0:\n",
    "    print(\" \" * (rows - i) + \"* \" * i)\n",
    "    i -= 1\n",
    "\n",
    "\n",
    "rows = 5\n",
    "\n",
    "for i in range(rows, 0, -1):\n",
    "    print(\" \" * (rows - i) + \"* \" * i)\n"
   ]
  },
  {
   "cell_type": "code",
   "execution_count": 20,
   "id": "e5cd9785-640e-4ed3-9f39-8088fd2164b4",
   "metadata": {},
   "outputs": [
    {
     "name": "stdout",
     "output_type": "stream",
     "text": [
      "* * * * * \n",
      "  * * * \n",
      "    * \n",
      "* * * * * \n",
      "  * * * \n",
      "    * \n"
     ]
    }
   ],
   "source": [
    "rows = 5\n",
    "i = rows\n",
    "\n",
    "while i > 0:\n",
    "    if i % 2 != 0:  # Only print odd rows\n",
    "        print(\" \" * (rows - i) + \"* \" * i)\n",
    "    i -= 1\n",
    "\n",
    "\n",
    "\n",
    "rows = 5\n",
    "\n",
    "for i in range(rows, 0, -1):\n",
    "    if i % 2 != 0:  # Only print odd rows\n",
    "        print(\" \" * (rows - i) + \"* \" * i)\n"
   ]
  },
  {
   "cell_type": "markdown",
   "id": "2f3161eb-a9f2-4a6a-8aaf-66c9ee578b26",
   "metadata": {},
   "source": [
    "# OOPS Concepts-------------------------->"
   ]
  },
  {
   "cell_type": "code",
   "execution_count": 23,
   "id": "2a51dbaa-6450-4cf6-96fa-6b083610b16d",
   "metadata": {},
   "outputs": [
    {
     "name": "stdout",
     "output_type": "stream",
     "text": [
      "Toyota\n",
      "2015\n"
     ]
    }
   ],
   "source": [
    "'''Encapsulation\n",
    "Definition: Encapsulation is the concept of bundling data (attributes) and methods (functions) within a single unit, or class, and restricting \n",
    "access to some of an object's components'''\n",
    "\n",
    "class Car:\n",
    "    def __init__(self, brand, year):\n",
    "        self.brand = brand       # Public attribute\n",
    "        self.__year = year       # Private attribute\n",
    "\n",
    "    def get_year(self):          # Getter for the private attribute\n",
    "        return self.__year\n",
    "\n",
    "    def set_year(self, year):    # Setter for the private attribute\n",
    "        if year > 2000:\n",
    "            self.__year = year\n",
    "\n",
    "car = Car(\"Toyota\", 2015)\n",
    "print(car.brand)  # Accessing public attribute\n",
    "print(car.get_year())  # Accessing private attribute using getter"
   ]
  },
  {
   "cell_type": "code",
   "execution_count": 24,
   "id": "215b6e12-16cf-44be-914d-f14cd76fcced",
   "metadata": {},
   "outputs": [
    {
     "name": "stdout",
     "output_type": "stream",
     "text": [
      "Some sound\n",
      "Woof!\n"
     ]
    }
   ],
   "source": [
    "'''Inheritance\n",
    "Definition: Inheritance allows one class (child class) to inherit the attributes and methods of another class (parent class). \n",
    "This promotes code reuse and establishes a relationship between classes.'''\n",
    "# Single Inheritance\n",
    "class Animal:\n",
    "    def speak(self):\n",
    "        return \"Some sound\"\n",
    "\n",
    "class Dog(Animal):          # Dog inherits from Animal\n",
    "    def bark(self):\n",
    "        return \"Woof!\"\n",
    "\n",
    "dog = Dog()\n",
    "print(dog.speak())          # Inherited method\n",
    "print(dog.bark())           # Method from Dog class"
   ]
  },
  {
   "cell_type": "code",
   "execution_count": 25,
   "id": "6a02780e-ab4c-4875-9748-119deac74133",
   "metadata": {},
   "outputs": [
    {
     "name": "stdout",
     "output_type": "stream",
     "text": [
      "Woof!\n",
      "Meow!\n"
     ]
    }
   ],
   "source": [
    "# Method Overriding Example\n",
    "class Animal:\n",
    "    def speak(self):\n",
    "        return \"Some sound\"\n",
    "\n",
    "class Dog(Animal):\n",
    "    def speak(self):        # Overriding the parent class method\n",
    "        return \"Woof!\"\n",
    "\n",
    "class Cat(Animal):\n",
    "    def speak(self):        # Overriding the parent class method\n",
    "        return \"Meow!\"\n",
    "\n",
    "animals = [Dog(), Cat()]\n",
    "\n",
    "for animal in animals:\n",
    "    print(animal.speak())   # Calls the overridden method based on the object type"
   ]
  },
  {
   "cell_type": "code",
   "execution_count": 26,
   "id": "7d77f849-1717-4fcc-9e1a-8c23403d6136",
   "metadata": {},
   "outputs": [
    {
     "name": "stdout",
     "output_type": "stream",
     "text": [
      "Area: 20\n",
      "Perimeter: 18\n"
     ]
    }
   ],
   "source": [
    "'''Abstraction\n",
    "Definition: Abstraction hides the implementation details and shows only the necessary features of an object. \n",
    "In Python, abstraction is achieved using abstract classes and methods.'''\n",
    "\n",
    "from abc import ABC, abstractmethod\n",
    "\n",
    "class Shape(ABC):\n",
    "    @abstractmethod\n",
    "    def area(self):\n",
    "        pass\n",
    "\n",
    "    @abstractmethod\n",
    "    def perimeter(self):\n",
    "        pass\n",
    "\n",
    "class Rectangle(Shape):\n",
    "    def __init__(self, width, height):\n",
    "        self.width = width\n",
    "        self.height = height\n",
    "\n",
    "    def area(self):\n",
    "        return self.width * self.height\n",
    "\n",
    "    def perimeter(self):\n",
    "        return 2 * (self.width + self.height)\n",
    "\n",
    "rectangle = Rectangle(4, 5)\n",
    "print(\"Area:\", rectangle.area())\n",
    "print(\"Perimeter:\", rectangle.perimeter())"
   ]
  },
  {
   "cell_type": "code",
   "execution_count": 27,
   "id": "d2633fa2-f1f2-42ce-825d-bb94c85baf53",
   "metadata": {},
   "outputs": [
    {
     "ename": "SyntaxError",
     "evalue": "invalid syntax (2911599626.py, line 1)",
     "output_type": "error",
     "traceback": [
      "\u001b[1;36m  Cell \u001b[1;32mIn[27], line 1\u001b[1;36m\u001b[0m\n\u001b[1;33m    Summary of OOP Concepts in Python\u001b[0m\n\u001b[1;37m            ^\u001b[0m\n\u001b[1;31mSyntaxError\u001b[0m\u001b[1;31m:\u001b[0m invalid syntax\n"
     ]
    }
   ],
   "source": [
    "Summary of OOP Concepts in Python\n",
    "Encapsulation: Hiding internal details and exposing only what is necessary.\n",
    "Inheritance: Establishing a hierarchy between classes for code reuse.\n",
    "Polymorphism: Using the same interface for different objects.\n",
    "Abstraction: Focusing on essential qualities, hiding the implementation details."
   ]
  },
  {
   "cell_type": "markdown",
   "id": "4271e2c0-a80a-41b4-a83e-3744ca47060d",
   "metadata": {},
   "source": [
    "# Important Basic Q&A in Python:"
   ]
  },
  {
   "cell_type": "code",
   "execution_count": 35,
   "id": "1c78546a-119f-42f9-acca-015e9d8ceba0",
   "metadata": {},
   "outputs": [
    {
     "name": "stdout",
     "output_type": "stream",
     "text": [
      "dooF\n",
      "olleh\n"
     ]
    }
   ],
   "source": [
    "# Question: Write a function to reverse a given string.\n",
    "def reverse_string(s):\n",
    "    return s[::-1]\n",
    "\n",
    "# Test\n",
    "S=\"Food\"\n",
    "print(reverse_string(S)) \n",
    "print(reverse_string(\"hello\"))  # Output: \"olleh\""
   ]
  },
  {
   "cell_type": "code",
   "execution_count": 36,
   "id": "25536345-ceec-4337-91fc-36b72be87114",
   "metadata": {},
   "outputs": [
    {
     "name": "stdout",
     "output_type": "stream",
     "text": [
      "True\n",
      "False\n"
     ]
    }
   ],
   "source": [
    "# Question: Write a function to check if a number is prime.\n",
    "\n",
    "def is_prime(n):\n",
    "    if n <= 1:\n",
    "        return False\n",
    "    for i in range(2, int(n ** 0.5) + 1):\n",
    "        if n % i == 0:\n",
    "            return False\n",
    "    return True\n",
    "\n",
    "# Test\n",
    "print(is_prime(11))  # Output: True\n",
    "print(is_prime(4))   # Output: False"
   ]
  },
  {
   "cell_type": "code",
   "execution_count": 37,
   "id": "365ed516-181e-43de-8d9e-ddcc7a4b0e9f",
   "metadata": {},
   "outputs": [
    {
     "name": "stdout",
     "output_type": "stream",
     "text": [
      "9\n"
     ]
    }
   ],
   "source": [
    "#Question: Write a Python function to find the largest element in a list?\n",
    "def find_largest(numbers):\n",
    "    return max(numbers)\n",
    "\n",
    "# Test\n",
    "print(find_largest([1, 5, 3, 9, 2]))  # Output: 9"
   ]
  },
  {
   "cell_type": "code",
   "execution_count": 54,
   "id": "b851f80a-d385-402c-b812-7389e7a8e0fd",
   "metadata": {},
   "outputs": [
    {
     "name": "stdout",
     "output_type": "stream",
     "text": [
      "True\n",
      "False\n",
      "It is not a palindrome\n"
     ]
    }
   ],
   "source": [
    "# Question: Write a function to check if a string is a palindrome (the same forwards and backwards).\n",
    "def is_palindrome(s):\n",
    "    return s == s[::-1]\n",
    "\n",
    "# Test\n",
    "print(is_palindrome(\"racecar\"))  # Output: True\n",
    "print(is_palindrome(\"hello\"))    # Output: False\n",
    "\n",
    "if(is_palindrome(\"hello\")==True):\n",
    "    print(\"It is a palindrome\")\n",
    "else:\n",
    "    print(\"It is not a palindrome\")\n"
   ]
  },
  {
   "cell_type": "code",
   "execution_count": 39,
   "id": "1f0c848f-05a6-4826-874c-aec4c95d8e38",
   "metadata": {},
   "outputs": [
    {
     "name": "stdout",
     "output_type": "stream",
     "text": [
      "120\n"
     ]
    }
   ],
   "source": [
    "# Question: Write a function to find the factorial of a number?\n",
    "\n",
    "def factorial(n):\n",
    "    if n == 0 or n == 1:\n",
    "        return 1\n",
    "    else:\n",
    "        return n * factorial(n - 1)\n",
    "\n",
    "# Test\n",
    "print(factorial(5))  # Output: 120"
   ]
  },
  {
   "cell_type": "code",
   "execution_count": 41,
   "id": "e785892c-6ada-4fe0-89d2-e0d5bda3a2d7",
   "metadata": {},
   "outputs": [
    {
     "name": "stdout",
     "output_type": "stream",
     "text": [
      "[0, 1, 1, 2, 3, 5, 8, 13, 21, 34]\n"
     ]
    }
   ],
   "source": [
    "# Question: Write a function to generate the Fibonacci series up to n terms.\n",
    "\n",
    "def fibonacci(n):\n",
    "    fib_series = [0, 1]\n",
    "    for i in range(2, n):\n",
    "        fib_series.append(fib_series[-1] + fib_series[-2])\n",
    "    return fib_series[:n]\n",
    "\n",
    "# Test\n",
    "print(fibonacci(10))  # Output: [0, 1, 1, 2, 3]"
   ]
  },
  {
   "cell_type": "code",
   "execution_count": 42,
   "id": "677cdd75-27dd-41d8-af86-5d61f6bb6078",
   "metadata": {},
   "outputs": [
    {
     "name": "stdout",
     "output_type": "stream",
     "text": [
      "[1, 2, 3, 4]\n"
     ]
    }
   ],
   "source": [
    "# Question: Write a function to remove duplicates from a list.\n",
    "\n",
    "def remove_duplicates(lst):\n",
    "    return list(set(lst))\n",
    "\n",
    "# Test\n",
    "print(remove_duplicates([1, 2, 3, 2, 1, 4]))  # Output: [1, 2, 3, 4] (order may vary)"
   ]
  },
  {
   "cell_type": "code",
   "execution_count": 43,
   "id": "7e357265-cb9a-41d7-8711-40587a6bb728",
   "metadata": {},
   "outputs": [
    {
     "name": "stdout",
     "output_type": "stream",
     "text": [
      "2\n"
     ]
    }
   ],
   "source": [
    "# Question: Write a function to count the number of vowels in a given string?\n",
    "def count_vowels(s):\n",
    "    vowels = \"aeiouAEIOU\"\n",
    "    return sum(1 for char in s if char in vowels)\n",
    "\n",
    "# Test\n",
    "print(count_vowels(\"hello\"))  # Output: 2\n"
   ]
  },
  {
   "cell_type": "code",
   "execution_count": 44,
   "id": "753710f2-1290-474a-ae55-65bc238e8232",
   "metadata": {},
   "outputs": [
    {
     "name": "stdout",
     "output_type": "stream",
     "text": [
      "4\n",
      "None\n"
     ]
    }
   ],
   "source": [
    "# Question: Write a function to find the second largest element in a list?\n",
    "\n",
    "def second_largest(numbers):\n",
    "    unique_numbers = list(set(numbers))\n",
    "    unique_numbers.sort()\n",
    "    return unique_numbers[-2] if len(unique_numbers) >= 2 else None\n",
    "\n",
    "# Test\n",
    "print(second_largest([1, 2, 3, 4, 5]))  # Output: 4\n",
    "print(second_largest([5, 5, 5]))       # Output: None"
   ]
  },
  {
   "cell_type": "code",
   "execution_count": 45,
   "id": "8e29fc2a-47ec-4674-b4af-8a0ea58ba3ee",
   "metadata": {},
   "outputs": [
    {
     "name": "stdout",
     "output_type": "stream",
     "text": [
      "[1, 2, 3, 4, 5, 6]\n"
     ]
    }
   ],
   "source": [
    "# Write a function to merge two sorted lists into a single sorted list?\n",
    "\n",
    "def merge_sorted_lists(list1, list2):\n",
    "    return sorted(list1 + list2)\n",
    "\n",
    "# Test\n",
    "print(merge_sorted_lists([1, 3, 5], [2, 4, 6]))  # Output: [1, 2, 3, 4, 5, 6]"
   ]
  },
  {
   "cell_type": "code",
   "execution_count": 46,
   "id": "72b821cb-516f-4966-88ee-8e6bd53fbf54",
   "metadata": {},
   "outputs": [
    {
     "name": "stdout",
     "output_type": "stream",
     "text": [
      "{1: 1, 2: 2, 3: 3}\n"
     ]
    }
   ],
   "source": [
    "# Write a function to count the frequency of each element in a list?\n",
    "\n",
    "from collections import Counter\n",
    "\n",
    "def count_frequency(lst):\n",
    "    return dict(Counter(lst))\n",
    "\n",
    "# Test\n",
    "print(count_frequency([1, 2, 2, 3, 3, 3]))  # Output: {1: 1, 2: 2, 3: 3}"
   ]
  },
  {
   "cell_type": "code",
   "execution_count": 47,
   "id": "d2eeeff5-6c7f-40cb-9cf1-c8345f1ff315",
   "metadata": {},
   "outputs": [
    {
     "name": "stdout",
     "output_type": "stream",
     "text": [
      "[2, 3]\n"
     ]
    }
   ],
   "source": [
    "# Question: Write a function to find the common elements between two lists.\n",
    "\n",
    "def common_elements(list1, list2):\n",
    "    return list(set(list1) & set(list2))\n",
    "\n",
    "# Test\n",
    "print(common_elements([1, 2, 3], [2, 3, 4]))  # Output: [2, 3]\n"
   ]
  },
  {
   "cell_type": "code",
   "execution_count": 48,
   "id": "f5280a01-b3bd-439b-81a4-7428d66224c6",
   "metadata": {},
   "outputs": [
    {
     "name": "stdout",
     "output_type": "stream",
     "text": [
      "True\n",
      "False\n"
     ]
    }
   ],
   "source": [
    "# Write a function to check if a list is sorted in ascending order.\n",
    "\n",
    "def is_sorted(lst):\n",
    "    return lst == sorted(lst)\n",
    "\n",
    "# Test\n",
    "print(is_sorted([1, 2, 3]))      # Output: True\n",
    "print(is_sorted([3, 2, 1]))      # Output: False"
   ]
  },
  {
   "cell_type": "code",
   "execution_count": 49,
   "id": "717fa579-d2ec-4a8d-ba25-3ad22d445f32",
   "metadata": {},
   "outputs": [
    {
     "name": "stdout",
     "output_type": "stream",
     "text": [
      "6\n"
     ]
    }
   ],
   "source": [
    "# Question: Write a function to find the length of the longest word in a sentence?\n",
    "\n",
    "def longest_word_length(sentence):\n",
    "    words = sentence.split()\n",
    "    return max(len(word) for word in words)\n",
    "\n",
    "# Test\n",
    "print(longest_word_length(\"Python is fun\"))  # Output: 6"
   ]
  },
  {
   "cell_type": "code",
   "execution_count": 50,
   "id": "75aad02d-859a-4442-b73c-b1fa2ddc7d9f",
   "metadata": {},
   "outputs": [
    {
     "name": "stdout",
     "output_type": "stream",
     "text": [
      "[1, 2, 3, 4, 5, 6]\n"
     ]
    }
   ],
   "source": [
    "# Question: Write a function to flatten a nested list.\n",
    "\n",
    "def flatten_list(nested_list):\n",
    "    flat_list = []\n",
    "    for item in nested_list:\n",
    "        if isinstance(item, list):\n",
    "            flat_list.extend(flatten_list(item))\n",
    "        else:\n",
    "            flat_list.append(item)\n",
    "    return flat_list\n",
    "\n",
    "# Test\n",
    "print(flatten_list([1, [2, 3], [4, [5, 6]]]))  # Output: [1, 2, 3, 4, 5, 6]"
   ]
  },
  {
   "cell_type": "markdown",
   "id": "49a9256c-98a4-428f-a32a-bd67c3dcda5b",
   "metadata": {},
   "source": [
    "# NUMPY & PYTHON:"
   ]
  },
  {
   "cell_type": "code",
   "execution_count": 55,
   "id": "3edf1ec5-2301-449c-8a5c-93d1eb05e13d",
   "metadata": {},
   "outputs": [
    {
     "name": "stdout",
     "output_type": "stream",
     "text": [
      "[1 2 3 4 5]\n"
     ]
    }
   ],
   "source": [
    "import numpy as np\n",
    "arr = np.array([1, 2, 3, 4, 5])\n",
    "print(arr)"
   ]
  },
  {
   "cell_type": "code",
   "execution_count": null,
   "id": "dfcc6b29-045e-4300-92fc-549b88c7b0a2",
   "metadata": {},
   "outputs": [],
   "source": [
    "What is the difference between a Python list and a NumPy array?\n",
    "\n",
    "Answer:\n",
    "\n",
    "Python List: Can store elements of different types and has higher memory overhead.\n",
    "NumPy Array: Stores elements of the same type and is more efficient in terms of performance and memory."
   ]
  },
  {
   "cell_type": "code",
   "execution_count": 56,
   "id": "ed18732a-4ae0-46d7-8d0f-3a2c847a4100",
   "metadata": {},
   "outputs": [
    {
     "name": "stdout",
     "output_type": "stream",
     "text": [
      "[[0. 0. 0.]\n",
      " [0. 0. 0.]\n",
      " [0. 0. 0.]]\n",
      "[[1. 1. 1. 1.]\n",
      " [1. 1. 1. 1.]]\n"
     ]
    }
   ],
   "source": [
    "# How do you create a NumPy array with zeros or ones?\n",
    "\n",
    "import numpy as np\n",
    "zero_arr = np.zeros((3, 3))  # 3x3 array of zeros\n",
    "ones_arr = np.ones((2, 4))   # 2x4 array of ones\n",
    "print(zero_arr)\n",
    "print(ones_arr)\n"
   ]
  },
  {
   "cell_type": "code",
   "execution_count": 57,
   "id": "5494d518-a3c5-4db4-8b8b-07fbc4c0ecbd",
   "metadata": {},
   "outputs": [
    {
     "name": "stdout",
     "output_type": "stream",
     "text": [
      "[5 7 9]\n"
     ]
    }
   ],
   "source": [
    "# How do you perform element-wise operations in NumPy?\n",
    "import numpy as np\n",
    "arr1 = np.array([1, 2, 3])\n",
    "arr2 = np.array([4, 5, 6])\n",
    "\n",
    "result = arr1 + arr2  # Element-wise addition\n",
    "print(result)"
   ]
  },
  {
   "cell_type": "code",
   "execution_count": 58,
   "id": "d05ba956-29e7-4fd0-9eca-ec7f7644745c",
   "metadata": {},
   "outputs": [
    {
     "name": "stdout",
     "output_type": "stream",
     "text": [
      "[[1 2 3]\n",
      " [4 5 6]]\n"
     ]
    }
   ],
   "source": [
    "# How do you reshape a NumPy array?\n",
    "import numpy as np\n",
    "arr = np.array([1, 2, 3, 4, 5, 6])\n",
    "reshaped_arr = arr.reshape(2, 3)\n",
    "print(reshaped_arr)"
   ]
  },
  {
   "cell_type": "code",
   "execution_count": 59,
   "id": "e77d5c58-f500-48e8-a036-63952c3e5b26",
   "metadata": {},
   "outputs": [
    {
     "name": "stdout",
     "output_type": "stream",
     "text": [
      "Mean: 3.0\n",
      "Median: 3.0\n",
      "Standard Deviation: 1.4142135623730951\n"
     ]
    }
   ],
   "source": [
    "# How do you calculate the mean, median, and standard deviation in NumPy?\n",
    "\n",
    "import numpy as np\n",
    "arr = np.array([1, 2, 3, 4, 5])\n",
    "print(\"Mean:\", np.mean(arr))\n",
    "print(\"Median:\", np.median(arr))\n",
    "print(\"Standard Deviation:\", np.std(arr))"
   ]
  },
  {
   "cell_type": "code",
   "execution_count": 60,
   "id": "d34e867b-62f1-419b-887a-6b66e091a93a",
   "metadata": {},
   "outputs": [
    {
     "name": "stdout",
     "output_type": "stream",
     "text": [
      "[4 5 6]\n"
     ]
    }
   ],
   "source": [
    "# How do you filter values in a NumPy array based on a condition?\n",
    "\n",
    "import numpy as np\n",
    "arr = np.array([1, 2, 3, 4, 5, 6])\n",
    "filtered_arr = arr[arr > 3]  # Filter elements greater than 3\n",
    "print(filtered_arr)"
   ]
  },
  {
   "cell_type": "markdown",
   "id": "81af2e58-3b05-4fb4-a6cf-71e4fdafae3f",
   "metadata": {},
   "source": [
    "# Pandas:"
   ]
  },
  {
   "cell_type": "code",
   "execution_count": 61,
   "id": "7832132b-fe2d-4716-9b93-6f920e0f861d",
   "metadata": {},
   "outputs": [
    {
     "name": "stdout",
     "output_type": "stream",
     "text": [
      "      Name  Age\n",
      "0    Alice   25\n",
      "1      Bob   30\n",
      "2  Charlie   35\n"
     ]
    }
   ],
   "source": [
    "# How do you create a DataFrame in Pandas?\n",
    "import pandas as pd\n",
    "data = {'Name': ['Alice', 'Bob', 'Charlie'], 'Age': [25, 30, 35]}\n",
    "df = pd.DataFrame(data)\n",
    "print(df)"
   ]
  },
  {
   "cell_type": "code",
   "execution_count": 63,
   "id": "f4de43f7-de1c-447d-8803-86ec5bb0b70f",
   "metadata": {},
   "outputs": [
    {
     "name": "stdout",
     "output_type": "stream",
     "text": [
      "0      Alice\n",
      "1        Bob\n",
      "2    Charlie\n",
      "Name: Name, dtype: object\n"
     ]
    }
   ],
   "source": [
    "# How do you access a specific column in a Pandas DataFrame?\n",
    "print(df['Name'])"
   ]
  },
  {
   "cell_type": "code",
   "execution_count": 64,
   "id": "d89b9907-f66b-4597-a076-5ce99b5817df",
   "metadata": {},
   "outputs": [
    {
     "name": "stdout",
     "output_type": "stream",
     "text": [
      "      Name  Age\n",
      "2  Charlie   35\n"
     ]
    }
   ],
   "source": [
    "# How do you filter rows in a Pandas DataFrame based on a condition?\n",
    "\n",
    "import pandas as pd\n",
    "data = {'Name': ['Alice', 'Bob', 'Charlie'], 'Age': [25, 30, 35]}\n",
    "df = pd.DataFrame(data)\n",
    "filtered_df = df[df['Age'] > 30]  # Filter rows where Age > 30\n",
    "print(filtered_df)"
   ]
  },
  {
   "cell_type": "code",
   "execution_count": 65,
   "id": "9d8ecb66-748e-4d1c-8fd2-77280eb00dff",
   "metadata": {},
   "outputs": [
    {
     "name": "stdout",
     "output_type": "stream",
     "text": [
      "      Name  Age Gender\n",
      "0    Alice   25      F\n",
      "1      Bob   30      M\n",
      "2  Charlie   35      M\n"
     ]
    }
   ],
   "source": [
    "# How do you add a new column to a Pandas DataFrame?\n",
    "\n",
    "import pandas as pd\n",
    "data = {'Name': ['Alice', 'Bob', 'Charlie'], 'Age': [25, 30, 35]}\n",
    "df = pd.DataFrame(data)\n",
    "df['Gender'] = ['F', 'M', 'M']\n",
    "print(df)"
   ]
  },
  {
   "cell_type": "code",
   "execution_count": 66,
   "id": "67607ba6-9117-411d-8bfa-bac5a3d312a5",
   "metadata": {},
   "outputs": [
    {
     "name": "stdout",
     "output_type": "stream",
     "text": [
      "      Name      Age\n",
      "0    Alice     25.0\n",
      "1      Bob  Unknown\n",
      "2  Unknown     35.0\n"
     ]
    }
   ],
   "source": [
    "# How do you handle missing values in a Pandas DataFrame?\n",
    "\n",
    "import pandas as pd\n",
    "data = {'Name': ['Alice', 'Bob', None], 'Age': [25, None, 35]}\n",
    "df = pd.DataFrame(data)\n",
    "df_filled = df.fillna('Unknown')  # Fill missing values with 'Unknown'\n",
    "print(df_filled)"
   ]
  },
  {
   "cell_type": "code",
   "execution_count": 67,
   "id": "a098501f-419a-4d79-be4b-8042d5f0eec8",
   "metadata": {},
   "outputs": [
    {
     "name": "stdout",
     "output_type": "stream",
     "text": [
      "       Score\n",
      "Name        \n",
      "Alice    175\n",
      "Bob      155\n"
     ]
    }
   ],
   "source": [
    "# How do you group data in Pandas?\n",
    "import pandas as pd\n",
    "data = {'Name': ['Alice', 'Bob', 'Alice', 'Bob'], 'Score': [90, 80, 85, 75]}\n",
    "df = pd.DataFrame(data)\n",
    "grouped_df = df.groupby('Name').sum()  # Group by Name and calculate sum of Score\n",
    "print(grouped_df)"
   ]
  },
  {
   "cell_type": "code",
   "execution_count": 68,
   "id": "3490e4ed-2daa-40ec-9bd9-02770334d98d",
   "metadata": {},
   "outputs": [
    {
     "name": "stdout",
     "output_type": "stream",
     "text": [
      "   ID     Name  Age\n",
      "0   2      Bob   30\n",
      "1   3  Charlie   35\n"
     ]
    }
   ],
   "source": [
    "# How do you merge two DataFrames in Pandas?\n",
    "import pandas as pd\n",
    "df1 = pd.DataFrame({'ID': [1, 2, 3], 'Name': ['Alice', 'Bob', 'Charlie']})\n",
    "df2 = pd.DataFrame({'ID': [2, 3, 4], 'Age': [30, 35, 40]})\n",
    "merged_df = pd.merge(df1, df2, on='ID', how='inner')\n",
    "print(merged_df)"
   ]
  },
  {
   "cell_type": "code",
   "execution_count": null,
   "id": "e441a9c0-9eb5-4b90-98f3-685f9c2ad3fe",
   "metadata": {},
   "outputs": [],
   "source": []
  }
 ],
 "metadata": {
  "kernelspec": {
   "display_name": "Python 3 (ipykernel)",
   "language": "python",
   "name": "python3"
  },
  "language_info": {
   "codemirror_mode": {
    "name": "ipython",
    "version": 3
   },
   "file_extension": ".py",
   "mimetype": "text/x-python",
   "name": "python",
   "nbconvert_exporter": "python",
   "pygments_lexer": "ipython3",
   "version": "3.11.7"
  }
 },
 "nbformat": 4,
 "nbformat_minor": 5
}
